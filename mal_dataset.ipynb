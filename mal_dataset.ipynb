{
 "cells": [
  {
   "cell_type": "code",
   "execution_count": 2,
   "metadata": {
    "collapsed": true
   },
   "outputs": [],
   "source": [
    "import pandas as pd\n",
    "import numpy as np\n",
    "import html"
   ]
  },
  {
   "cell_type": "code",
   "execution_count": 56,
   "metadata": {},
   "outputs": [
    {
     "data": {
      "text/html": [
       "<div>\n",
       "<style>\n",
       "    .dataframe thead tr:only-child th {\n",
       "        text-align: right;\n",
       "    }\n",
       "\n",
       "    .dataframe thead th {\n",
       "        text-align: left;\n",
       "    }\n",
       "\n",
       "    .dataframe tbody tr th {\n",
       "        vertical-align: top;\n",
       "    }\n",
       "</style>\n",
       "<table border=\"1\" class=\"dataframe\">\n",
       "  <thead>\n",
       "    <tr style=\"text-align: right;\">\n",
       "      <th></th>\n",
       "      <th>anime_id</th>\n",
       "      <th>name</th>\n",
       "      <th>genre</th>\n",
       "      <th>type</th>\n",
       "      <th>episodes</th>\n",
       "      <th>rating</th>\n",
       "      <th>members</th>\n",
       "    </tr>\n",
       "  </thead>\n",
       "  <tbody>\n",
       "    <tr>\n",
       "      <th>0</th>\n",
       "      <td>32281</td>\n",
       "      <td>Kimi no Na wa.</td>\n",
       "      <td>Drama, Romance, School, Supernatural</td>\n",
       "      <td>Movie</td>\n",
       "      <td>1</td>\n",
       "      <td>9.37</td>\n",
       "      <td>200630</td>\n",
       "    </tr>\n",
       "    <tr>\n",
       "      <th>1</th>\n",
       "      <td>5114</td>\n",
       "      <td>Fullmetal Alchemist: Brotherhood</td>\n",
       "      <td>Action, Adventure, Drama, Fantasy, Magic, Mili...</td>\n",
       "      <td>TV</td>\n",
       "      <td>64</td>\n",
       "      <td>9.26</td>\n",
       "      <td>793665</td>\n",
       "    </tr>\n",
       "    <tr>\n",
       "      <th>2</th>\n",
       "      <td>28977</td>\n",
       "      <td>Gintama°</td>\n",
       "      <td>Action, Comedy, Historical, Parody, Samurai, S...</td>\n",
       "      <td>TV</td>\n",
       "      <td>51</td>\n",
       "      <td>9.25</td>\n",
       "      <td>114262</td>\n",
       "    </tr>\n",
       "    <tr>\n",
       "      <th>3</th>\n",
       "      <td>9253</td>\n",
       "      <td>Steins;Gate</td>\n",
       "      <td>Sci-Fi, Thriller</td>\n",
       "      <td>TV</td>\n",
       "      <td>24</td>\n",
       "      <td>9.17</td>\n",
       "      <td>673572</td>\n",
       "    </tr>\n",
       "    <tr>\n",
       "      <th>4</th>\n",
       "      <td>9969</td>\n",
       "      <td>Gintama&amp;#039;</td>\n",
       "      <td>Action, Comedy, Historical, Parody, Samurai, S...</td>\n",
       "      <td>TV</td>\n",
       "      <td>51</td>\n",
       "      <td>9.16</td>\n",
       "      <td>151266</td>\n",
       "    </tr>\n",
       "  </tbody>\n",
       "</table>\n",
       "</div>"
      ],
      "text/plain": [
       "   anime_id                              name  \\\n",
       "0     32281                    Kimi no Na wa.   \n",
       "1      5114  Fullmetal Alchemist: Brotherhood   \n",
       "2     28977                          Gintama°   \n",
       "3      9253                       Steins;Gate   \n",
       "4      9969                     Gintama&#039;   \n",
       "\n",
       "                                               genre   type episodes  rating  \\\n",
       "0               Drama, Romance, School, Supernatural  Movie        1    9.37   \n",
       "1  Action, Adventure, Drama, Fantasy, Magic, Mili...     TV       64    9.26   \n",
       "2  Action, Comedy, Historical, Parody, Samurai, S...     TV       51    9.25   \n",
       "3                                   Sci-Fi, Thriller     TV       24    9.17   \n",
       "4  Action, Comedy, Historical, Parody, Samurai, S...     TV       51    9.16   \n",
       "\n",
       "   members  \n",
       "0   200630  \n",
       "1   793665  \n",
       "2   114262  \n",
       "3   673572  \n",
       "4   151266  "
      ]
     },
     "execution_count": 56,
     "metadata": {},
     "output_type": "execute_result"
    }
   ],
   "source": [
    "anime = pd.read_csv('./anime-recommendations-database/anime.csv')\n",
    "anime.head()"
   ]
  },
  {
   "cell_type": "markdown",
   "metadata": {},
   "source": [
    "### Genres"
   ]
  },
  {
   "cell_type": "code",
   "execution_count": 64,
   "metadata": {},
   "outputs": [
    {
     "name": "stdout",
     "output_type": "stream",
     "text": [
      "Number of genres 44\n"
     ]
    },
    {
     "data": {
      "text/plain": [
       "{'Action',\n",
       " 'Adventure',\n",
       " 'Cars',\n",
       " 'Comedy',\n",
       " 'Dementia',\n",
       " 'Demons',\n",
       " 'Drama',\n",
       " 'Ecchi',\n",
       " 'Fantasy',\n",
       " 'Game',\n",
       " 'Harem',\n",
       " 'Hentai',\n",
       " 'Historical',\n",
       " 'Horror',\n",
       " 'Josei',\n",
       " 'Kids',\n",
       " 'Magic',\n",
       " 'Martial Arts',\n",
       " 'Mecha',\n",
       " 'Military',\n",
       " 'Music',\n",
       " 'Mystery',\n",
       " 'NA',\n",
       " 'Parody',\n",
       " 'Police',\n",
       " 'Psychological',\n",
       " 'Romance',\n",
       " 'Samurai',\n",
       " 'School',\n",
       " 'Sci-Fi',\n",
       " 'Seinen',\n",
       " 'Shoujo',\n",
       " 'Shoujo Ai',\n",
       " 'Shounen',\n",
       " 'Shounen Ai',\n",
       " 'Slice of Life',\n",
       " 'Space',\n",
       " 'Sports',\n",
       " 'Super Power',\n",
       " 'Supernatural',\n",
       " 'Thriller',\n",
       " 'Vampire',\n",
       " 'Yaoi',\n",
       " 'Yuri'}"
      ]
     },
     "execution_count": 64,
     "metadata": {},
     "output_type": "execute_result"
    }
   ],
   "source": [
    "# Fill genre with NA (Source: https://www.kaggle.com/deepakputhraya/exploratory-analysis)\n",
    "anime.genre.fillna('NA', inplace=True)\n",
    "\n",
    "# Get a list of all genres\n",
    "genres = set((', '.join(anime['genre'].values.flatten())).split(', '))\n",
    "\n",
    "print('Number of genres', len(genres))\n",
    "genres"
   ]
  },
  {
   "cell_type": "code",
   "execution_count": 66,
   "metadata": {
    "collapsed": true
   },
   "outputs": [],
   "source": [
    "# Normalize genres (Source: https://www.kaggle.com/xthunder94/category-visualization)\n",
    "anime = anime.replace({'Harem': 'Hentai'}, regex=True)\n",
    "anime = anime.replace({'Ecchi': 'Hentai'}, regex=True)\n",
    "anime = anime.replace({'Shoujo Ai': 'Hentai'}, regex=True)\n",
    "anime = anime.replace({'Yaoi': 'Hentai'}, regex=True)\n",
    "anime = anime.replace({'Yuri': 'Hentai'}, regex=True)\n",
    "anime = anime.replace({'Shounen Ai': 'Hentai'}, regex=True)\n",
    "\n",
    "anime = anime.replace({'Demons': 'Vampire'}, regex=True)\n",
    "\n",
    "anime = anime.replace({'Supernatural': 'Magic'}, regex=True)\n",
    "anime = anime.replace({'Super Power': 'Magic'}, regex=True)\n",
    "anime = anime.replace({'Sci-Fi': 'Magic'}, regex=True)"
   ]
  },
  {
   "cell_type": "markdown",
   "metadata": {},
   "source": [
    "### Title"
   ]
  },
  {
   "cell_type": "code",
   "execution_count": 42,
   "metadata": {},
   "outputs": [
    {
     "data": {
      "text/html": [
       "<div>\n",
       "<style>\n",
       "    .dataframe thead tr:only-child th {\n",
       "        text-align: right;\n",
       "    }\n",
       "\n",
       "    .dataframe thead th {\n",
       "        text-align: left;\n",
       "    }\n",
       "\n",
       "    .dataframe tbody tr th {\n",
       "        vertical-align: top;\n",
       "    }\n",
       "</style>\n",
       "<table border=\"1\" class=\"dataframe\">\n",
       "  <thead>\n",
       "    <tr style=\"text-align: right;\">\n",
       "      <th></th>\n",
       "      <th>anime_id</th>\n",
       "      <th>name</th>\n",
       "      <th>genre</th>\n",
       "      <th>type</th>\n",
       "      <th>episodes</th>\n",
       "      <th>rating</th>\n",
       "      <th>members</th>\n",
       "    </tr>\n",
       "  </thead>\n",
       "  <tbody>\n",
       "    <tr>\n",
       "      <th>7749</th>\n",
       "      <td>20707</td>\n",
       "      <td>\"0\"</td>\n",
       "      <td>Music</td>\n",
       "      <td>Music</td>\n",
       "      <td>1</td>\n",
       "      <td>5.06</td>\n",
       "      <td>1170</td>\n",
       "    </tr>\n",
       "    <tr>\n",
       "      <th>8059</th>\n",
       "      <td>25627</td>\n",
       "      <td>\"Aesop\" no Ohanashi yori: Ushi to Kaeru, Yokub...</td>\n",
       "      <td>Kids</td>\n",
       "      <td>Movie</td>\n",
       "      <td>1</td>\n",
       "      <td>5.00</td>\n",
       "      <td>113</td>\n",
       "    </tr>\n",
       "    <tr>\n",
       "      <th>3156</th>\n",
       "      <td>7669</td>\n",
       "      <td>\"Bungaku Shoujo\" Kyou no Oyatsu: Hatsukoi</td>\n",
       "      <td>Comedy, Fantasy, School</td>\n",
       "      <td>OVA</td>\n",
       "      <td>1</td>\n",
       "      <td>7.06</td>\n",
       "      <td>14351</td>\n",
       "    </tr>\n",
       "    <tr>\n",
       "      <th>1436</th>\n",
       "      <td>8481</td>\n",
       "      <td>\"Bungaku Shoujo\" Memoire</td>\n",
       "      <td>Drama, Romance, School</td>\n",
       "      <td>OVA</td>\n",
       "      <td>3</td>\n",
       "      <td>7.54</td>\n",
       "      <td>18013</td>\n",
       "    </tr>\n",
       "    <tr>\n",
       "      <th>1199</th>\n",
       "      <td>6408</td>\n",
       "      <td>\"Bungaku Shoujo\" Movie</td>\n",
       "      <td>Drama, Mystery, Romance, School</td>\n",
       "      <td>Movie</td>\n",
       "      <td>1</td>\n",
       "      <td>7.63</td>\n",
       "      <td>40984</td>\n",
       "    </tr>\n",
       "  </tbody>\n",
       "</table>\n",
       "</div>"
      ],
      "text/plain": [
       "      anime_id                                               name  \\\n",
       "7749     20707                                                \"0\"   \n",
       "8059     25627  \"Aesop\" no Ohanashi yori: Ushi to Kaeru, Yokub...   \n",
       "3156      7669          \"Bungaku Shoujo\" Kyou no Oyatsu: Hatsukoi   \n",
       "1436      8481                           \"Bungaku Shoujo\" Memoire   \n",
       "1199      6408                             \"Bungaku Shoujo\" Movie   \n",
       "\n",
       "                                genre   type episodes  rating  members  \n",
       "7749                            Music  Music        1    5.06     1170  \n",
       "8059                             Kids  Movie        1    5.00      113  \n",
       "3156          Comedy, Fantasy, School    OVA        1    7.06    14351  \n",
       "1436           Drama, Romance, School    OVA        3    7.54    18013  \n",
       "1199  Drama, Mystery, Romance, School  Movie        1    7.63    40984  "
      ]
     },
     "execution_count": 42,
     "metadata": {},
     "output_type": "execute_result"
    }
   ],
   "source": [
    "anime['name'] = [html.unescape(name) for name in anime['name']] # decode spec html chars like &quot; => '\n",
    "anime.sort_values(['name']).head()"
   ]
  },
  {
   "cell_type": "markdown",
   "metadata": {},
   "source": [
    "### Simple stats"
   ]
  },
  {
   "cell_type": "markdown",
   "metadata": {},
   "source": [
    "#### Filling in missing episode data"
   ]
  },
  {
   "cell_type": "code",
   "execution_count": 43,
   "metadata": {
    "collapsed": true
   },
   "outputs": [],
   "source": [
    "# source: https://www.kaggle.com/xenocide/content-based-anime-recommender\n",
    "\n",
    "anime.loc[(anime['genre']=='Hentai') & (anime['episodes']=='Unknown'), 'episodes'] = \"1\"\n",
    "anime.loc[(anime['type'] == 'Movie') & (anime['episodes'] == 'Unknown'), 'episodes'] = \"1\""
   ]
  },
  {
   "cell_type": "code",
   "execution_count": 44,
   "metadata": {
    "collapsed": true
   },
   "outputs": [],
   "source": [
    "known_animes = {\n",
    "    \"Naruto Shippuuden\": 500,\n",
    "    \"Fairy Tail\": 277,\n",
    "    \"One Piece\": 807,\n",
    "    \"Detective Conan\": 874,\n",
    "    \"Dragon Ball Super\": 86,\n",
    "    \"Crayon Shin chan\": 942,\n",
    "    \"Yu Gi Oh Arc V\": 148,\n",
    "    \"Shingeki no Kyojin Season 2\": 12,\n",
    "    \"Boku no Hero Academia 2nd Season\": 25,\n",
    "    \"Little Witch Academia TV\": 25\n",
    "}"
   ]
  },
  {
   "cell_type": "code",
   "execution_count": 45,
   "metadata": {
    "collapsed": true
   },
   "outputs": [],
   "source": [
    "for k,v in known_animes.items():    \n",
    "    anime.loc[anime[\"name\"] == k, \"episodes\"] = v"
   ]
  },
  {
   "cell_type": "code",
   "execution_count": 46,
   "metadata": {
    "collapsed": true
   },
   "outputs": [],
   "source": [
    "# replace Unknown with NaN\n",
    "anime[\"episodes\"] = anime[\"episodes\"].map(lambda x:np.nan if x == \"Unknown\" else x)"
   ]
  },
  {
   "cell_type": "code",
   "execution_count": 47,
   "metadata": {
    "collapsed": true
   },
   "outputs": [],
   "source": [
    "# convert numbers to floats\n",
    "anime[\"episodes\"] = anime[\"episodes\"].astype(float)\n",
    "anime[\"rating\"] = anime[\"rating\"].astype(float)"
   ]
  },
  {
   "cell_type": "code",
   "execution_count": 48,
   "metadata": {},
   "outputs": [
    {
     "name": "stdout",
     "output_type": "stream",
     "text": [
      "Median episode number 24.0\n",
      "Mean episode number 36.3974323193\n"
     ]
    },
    {
     "data": {
      "text/html": [
       "<div>\n",
       "<style>\n",
       "    .dataframe thead tr:only-child th {\n",
       "        text-align: right;\n",
       "    }\n",
       "\n",
       "    .dataframe thead th {\n",
       "        text-align: left;\n",
       "    }\n",
       "\n",
       "    .dataframe tbody tr th {\n",
       "        vertical-align: top;\n",
       "    }\n",
       "</style>\n",
       "<table border=\"1\" class=\"dataframe\">\n",
       "  <thead>\n",
       "    <tr style=\"text-align: right;\">\n",
       "      <th></th>\n",
       "      <th>anime_id</th>\n",
       "      <th>name</th>\n",
       "      <th>genre</th>\n",
       "      <th>type</th>\n",
       "      <th>episodes</th>\n",
       "      <th>rating</th>\n",
       "      <th>members</th>\n",
       "    </tr>\n",
       "  </thead>\n",
       "  <tbody>\n",
       "    <tr>\n",
       "      <th>0</th>\n",
       "      <td>32281</td>\n",
       "      <td>Kimi no Na wa.</td>\n",
       "      <td>Drama, Romance, School, Supernatural</td>\n",
       "      <td>Movie</td>\n",
       "      <td>1.0</td>\n",
       "      <td>9.37</td>\n",
       "      <td>200630</td>\n",
       "    </tr>\n",
       "    <tr>\n",
       "      <th>1</th>\n",
       "      <td>5114</td>\n",
       "      <td>Fullmetal Alchemist: Brotherhood</td>\n",
       "      <td>Action, Adventure, Drama, Fantasy, Magic, Mili...</td>\n",
       "      <td>TV</td>\n",
       "      <td>64.0</td>\n",
       "      <td>9.26</td>\n",
       "      <td>793665</td>\n",
       "    </tr>\n",
       "    <tr>\n",
       "      <th>2</th>\n",
       "      <td>28977</td>\n",
       "      <td>Gintama°</td>\n",
       "      <td>Action, Comedy, Historical, Parody, Samurai, S...</td>\n",
       "      <td>TV</td>\n",
       "      <td>51.0</td>\n",
       "      <td>9.25</td>\n",
       "      <td>114262</td>\n",
       "    </tr>\n",
       "    <tr>\n",
       "      <th>3</th>\n",
       "      <td>9253</td>\n",
       "      <td>Steins;Gate</td>\n",
       "      <td>Sci-Fi, Thriller</td>\n",
       "      <td>TV</td>\n",
       "      <td>24.0</td>\n",
       "      <td>9.17</td>\n",
       "      <td>673572</td>\n",
       "    </tr>\n",
       "    <tr>\n",
       "      <th>4</th>\n",
       "      <td>9969</td>\n",
       "      <td>Gintama'</td>\n",
       "      <td>Action, Comedy, Historical, Parody, Samurai, S...</td>\n",
       "      <td>TV</td>\n",
       "      <td>51.0</td>\n",
       "      <td>9.16</td>\n",
       "      <td>151266</td>\n",
       "    </tr>\n",
       "  </tbody>\n",
       "</table>\n",
       "</div>"
      ],
      "text/plain": [
       "   anime_id                              name  \\\n",
       "0     32281                    Kimi no Na wa.   \n",
       "1      5114  Fullmetal Alchemist: Brotherhood   \n",
       "2     28977                          Gintama°   \n",
       "3      9253                       Steins;Gate   \n",
       "4      9969                          Gintama'   \n",
       "\n",
       "                                               genre   type  episodes  rating  \\\n",
       "0               Drama, Romance, School, Supernatural  Movie       1.0    9.37   \n",
       "1  Action, Adventure, Drama, Fantasy, Magic, Mili...     TV      64.0    9.26   \n",
       "2  Action, Comedy, Historical, Parody, Samurai, S...     TV      51.0    9.25   \n",
       "3                                   Sci-Fi, Thriller     TV      24.0    9.17   \n",
       "4  Action, Comedy, Historical, Parody, Samurai, S...     TV      51.0    9.16   \n",
       "\n",
       "   members  \n",
       "0   200630  \n",
       "1   793665  \n",
       "2   114262  \n",
       "3   673572  \n",
       "4   151266  "
      ]
     },
     "execution_count": 48,
     "metadata": {},
     "output_type": "execute_result"
    }
   ],
   "source": [
    "# movies already filled in, only use median of TV series\n",
    "ep_median = anime[anime['type'] == \"TV\"].episodes.median()\n",
    "ep_mean = anime[anime['type'] == \"TV\"].episodes.mean()\n",
    "print('Median episode number', ep_median)\n",
    "print('Mean episode number', ep_mean)\n",
    "\n",
    "anime[\"episodes\"].fillna(ep_median, inplace = True)\n",
    "anime.head()"
   ]
  },
  {
   "cell_type": "code",
   "execution_count": 49,
   "metadata": {},
   "outputs": [
    {
     "data": {
      "text/html": [
       "<div>\n",
       "<style>\n",
       "    .dataframe thead tr:only-child th {\n",
       "        text-align: right;\n",
       "    }\n",
       "\n",
       "    .dataframe thead th {\n",
       "        text-align: left;\n",
       "    }\n",
       "\n",
       "    .dataframe tbody tr th {\n",
       "        vertical-align: top;\n",
       "    }\n",
       "</style>\n",
       "<table border=\"1\" class=\"dataframe\">\n",
       "  <thead>\n",
       "    <tr style=\"text-align: right;\">\n",
       "      <th></th>\n",
       "      <th>mean</th>\n",
       "      <th>median</th>\n",
       "      <th>count</th>\n",
       "    </tr>\n",
       "    <tr>\n",
       "      <th>type</th>\n",
       "      <th></th>\n",
       "      <th></th>\n",
       "      <th></th>\n",
       "    </tr>\n",
       "  </thead>\n",
       "  <tbody>\n",
       "    <tr>\n",
       "      <th>Movie</th>\n",
       "      <td>1.102215</td>\n",
       "      <td>1.0</td>\n",
       "      <td>2348</td>\n",
       "    </tr>\n",
       "    <tr>\n",
       "      <th>Music</th>\n",
       "      <td>1.178279</td>\n",
       "      <td>1.0</td>\n",
       "      <td>488</td>\n",
       "    </tr>\n",
       "    <tr>\n",
       "      <th>ONA</th>\n",
       "      <td>8.072838</td>\n",
       "      <td>3.0</td>\n",
       "      <td>659</td>\n",
       "    </tr>\n",
       "    <tr>\n",
       "      <th>OVA</th>\n",
       "      <td>2.493506</td>\n",
       "      <td>2.0</td>\n",
       "      <td>3311</td>\n",
       "    </tr>\n",
       "    <tr>\n",
       "      <th>Special</th>\n",
       "      <td>2.625298</td>\n",
       "      <td>1.0</td>\n",
       "      <td>1676</td>\n",
       "    </tr>\n",
       "    <tr>\n",
       "      <th>TV</th>\n",
       "      <td>35.729601</td>\n",
       "      <td>24.0</td>\n",
       "      <td>3787</td>\n",
       "    </tr>\n",
       "  </tbody>\n",
       "</table>\n",
       "</div>"
      ],
      "text/plain": [
       "              mean  median  count\n",
       "type                             \n",
       "Movie     1.102215     1.0   2348\n",
       "Music     1.178279     1.0    488\n",
       "ONA       8.072838     3.0    659\n",
       "OVA       2.493506     2.0   3311\n",
       "Special   2.625298     1.0   1676\n",
       "TV       35.729601    24.0   3787"
      ]
     },
     "execution_count": 49,
     "metadata": {},
     "output_type": "execute_result"
    }
   ],
   "source": [
    "anime.groupby('type').episodes.agg(['mean', 'median', 'count'])"
   ]
  },
  {
   "cell_type": "code",
   "execution_count": 50,
   "metadata": {
    "collapsed": true
   },
   "outputs": [],
   "source": [
    "anime = anime[anime['type'].isin(('Movie', 'TV'))] # remove unnecessary types\n"
   ]
  },
  {
   "cell_type": "markdown",
   "metadata": {},
   "source": [
    "## Ratings"
   ]
  },
  {
   "cell_type": "code",
   "execution_count": 52,
   "metadata": {
    "collapsed": true
   },
   "outputs": [],
   "source": [
    "anime['rating'].fillna(anime['rating'].median(), inplace = True)"
   ]
  },
  {
   "cell_type": "markdown",
   "metadata": {},
   "source": [
    "# Users"
   ]
  },
  {
   "cell_type": "markdown",
   "metadata": {},
   "source": [
    "## Ratings"
   ]
  },
  {
   "cell_type": "code",
   "execution_count": 3,
   "metadata": {},
   "outputs": [
    {
     "data": {
      "text/html": [
       "<div>\n",
       "<style>\n",
       "    .dataframe thead tr:only-child th {\n",
       "        text-align: right;\n",
       "    }\n",
       "\n",
       "    .dataframe thead th {\n",
       "        text-align: left;\n",
       "    }\n",
       "\n",
       "    .dataframe tbody tr th {\n",
       "        vertical-align: top;\n",
       "    }\n",
       "</style>\n",
       "<table border=\"1\" class=\"dataframe\">\n",
       "  <thead>\n",
       "    <tr style=\"text-align: right;\">\n",
       "      <th></th>\n",
       "      <th>user_id</th>\n",
       "      <th>anime_id</th>\n",
       "      <th>rating</th>\n",
       "    </tr>\n",
       "  </thead>\n",
       "  <tbody>\n",
       "    <tr>\n",
       "      <th>0</th>\n",
       "      <td>1</td>\n",
       "      <td>20</td>\n",
       "      <td>-1</td>\n",
       "    </tr>\n",
       "    <tr>\n",
       "      <th>1</th>\n",
       "      <td>1</td>\n",
       "      <td>24</td>\n",
       "      <td>-1</td>\n",
       "    </tr>\n",
       "    <tr>\n",
       "      <th>2</th>\n",
       "      <td>1</td>\n",
       "      <td>79</td>\n",
       "      <td>-1</td>\n",
       "    </tr>\n",
       "    <tr>\n",
       "      <th>3</th>\n",
       "      <td>1</td>\n",
       "      <td>226</td>\n",
       "      <td>-1</td>\n",
       "    </tr>\n",
       "    <tr>\n",
       "      <th>4</th>\n",
       "      <td>1</td>\n",
       "      <td>241</td>\n",
       "      <td>-1</td>\n",
       "    </tr>\n",
       "  </tbody>\n",
       "</table>\n",
       "</div>"
      ],
      "text/plain": [
       "   user_id  anime_id  rating\n",
       "0        1        20      -1\n",
       "1        1        24      -1\n",
       "2        1        79      -1\n",
       "3        1       226      -1\n",
       "4        1       241      -1"
      ]
     },
     "execution_count": 3,
     "metadata": {},
     "output_type": "execute_result"
    }
   ],
   "source": [
    "rating = pd.read_csv('./anime-recommendations-database/rating.csv')\n",
    "rating.head()"
   ]
  },
  {
   "cell_type": "code",
   "execution_count": 9,
   "metadata": {},
   "outputs": [
    {
     "name": "stdout",
     "output_type": "stream",
     "text": [
      "Users 73515\n",
      "Ratings 7813737\n",
      "Watching without rating 1476496\n"
     ]
    }
   ],
   "source": [
    "print('Users', len(rating.groupby('user_id')))\n",
    "print('Ratings', len(rating))\n",
    "print('Watching without rating', len(rating[rating['rating'] == -1]))"
   ]
  },
  {
   "cell_type": "code",
   "execution_count": 8,
   "metadata": {},
   "outputs": [
    {
     "name": "stdout",
     "output_type": "stream",
     "text": [
      "Mean rating:  6.14402954694\n"
     ]
    }
   ],
   "source": [
    "print('Mean rating: ', rating['rating'].mean())"
   ]
  },
  {
   "cell_type": "code",
   "execution_count": null,
   "metadata": {
    "collapsed": true
   },
   "outputs": [],
   "source": [
    "# replace -1 rating with MEAN"
   ]
  },
  {
   "cell_type": "code",
   "execution_count": 80,
   "metadata": {
    "collapsed": true
   },
   "outputs": [],
   "source": [
    "# mean ratings/graph for tv, movie"
   ]
  },
  {
   "cell_type": "code",
   "execution_count": null,
   "metadata": {
    "collapsed": true
   },
   "outputs": [],
   "source": []
  }
 ],
 "metadata": {
  "kernelspec": {
   "display_name": "Python 3",
   "language": "python",
   "name": "python3"
  },
  "language_info": {
   "codemirror_mode": {
    "name": "ipython",
    "version": 3
   },
   "file_extension": ".py",
   "mimetype": "text/x-python",
   "name": "python",
   "nbconvert_exporter": "python",
   "pygments_lexer": "ipython3",
   "version": "3.5.2"
  }
 },
 "nbformat": 4,
 "nbformat_minor": 2
}
